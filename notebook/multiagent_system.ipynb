{
 "cells": [
  {
   "cell_type": "code",
   "execution_count": 5,
   "id": "4d79fb77",
   "metadata": {},
   "outputs": [],
   "source": [
    "import re\n",
    "import pandas as pd\n",
    "from typing import  Literal,List,Any\n",
    "from langchain_core.tools import tool\n",
    "from langchain_groq import ChatGroq\n",
    "from langgraph.types import Command\n",
    "from langgraph.graph.message import add_messages\n",
    "from typing_extensions import TypedDict, Annotated\n",
    "from langchain_core.prompts.chat import ChatPromptTemplate\n",
    "from langgraph.graph import START, StateGraph,END\n",
    "from langgraph.prebuilt import create_react_agent\n",
    "from pydantic import BaseModel, Field, field_validator\n",
    "from langchain_core.messages import HumanMessage,AIMessage\n",
    "from langchain_openai import ChatOpenAI\n",
    "from dotenv import load_dotenv"
   ]
  },
  {
   "cell_type": "code",
   "execution_count": 6,
   "id": "9eedc3fd",
   "metadata": {},
   "outputs": [
    {
     "data": {
      "text/plain": [
       "True"
      ]
     },
     "execution_count": 6,
     "metadata": {},
     "output_type": "execute_result"
    }
   ],
   "source": [
    "load_dotenv()"
   ]
  },
  {
   "cell_type": "code",
   "execution_count": 8,
   "id": "f0926d29",
   "metadata": {},
   "outputs": [],
   "source": [
    "import os\n",
    "OPENAI_API_KEY=os.getenv(\"OPENAI_API_KEY\")\n",
    "os.environ[\"OPENAI_API_KEY\"]=OPENAI_API_KEY"
   ]
  },
  {
   "cell_type": "code",
   "execution_count": 9,
   "id": "b612c8f6",
   "metadata": {},
   "outputs": [],
   "source": [
    "openai_model=ChatOpenAI(model=\"gpt-4o\")"
   ]
  },
  {
   "cell_type": "code",
   "execution_count": 11,
   "id": "ab08784b",
   "metadata": {},
   "outputs": [
    {
     "data": {
      "text/plain": [
       "AIMessage(content='Hello! How can I assist you today?', additional_kwargs={'refusal': None}, response_metadata={'token_usage': {'completion_tokens': 9, 'prompt_tokens': 8, 'total_tokens': 17, 'completion_tokens_details': {'accepted_prediction_tokens': 0, 'audio_tokens': 0, 'reasoning_tokens': 0, 'rejected_prediction_tokens': 0}, 'prompt_tokens_details': {'audio_tokens': 0, 'cached_tokens': 0}}, 'model_name': 'gpt-4o-2024-08-06', 'system_fingerprint': 'fp_f33640a400', 'id': 'chatcmpl-CFZw6XNqhussF7xHw8eR6cjh9pZCW', 'finish_reason': 'stop', 'logprobs': None}, id='run-ac24d713-d2b8-469e-8f8a-5d244aed8d03-0', usage_metadata={'input_tokens': 8, 'output_tokens': 9, 'total_tokens': 17, 'input_token_details': {'audio': 0, 'cache_read': 0}, 'output_token_details': {'audio': 0, 'reasoning': 0}})"
      ]
     },
     "execution_count": 11,
     "metadata": {},
     "output_type": "execute_result"
    }
   ],
   "source": [
    "openai_model.invoke(\"hi\")"
   ]
  },
  {
   "cell_type": "code",
   "execution_count": 13,
   "id": "a354e875",
   "metadata": {},
   "outputs": [],
   "source": [
    "from data_models.models import DateTimeModel, DateModel, IdentificationNumberModel"
   ]
  },
  {
   "cell_type": "markdown",
   "id": "09d10206",
   "metadata": {},
   "source": [
    "## Tools"
   ]
  },
  {
   "cell_type": "markdown",
   "id": "4374561d",
   "metadata": {},
   "source": [
    "### Check Availability by Doctor"
   ]
  },
  {
   "cell_type": "code",
   "execution_count": 17,
   "id": "295b73d5",
   "metadata": {},
   "outputs": [
    {
     "data": {
      "text/html": [
       "<div>\n",
       "<style scoped>\n",
       "    .dataframe tbody tr th:only-of-type {\n",
       "        vertical-align: middle;\n",
       "    }\n",
       "\n",
       "    .dataframe tbody tr th {\n",
       "        vertical-align: top;\n",
       "    }\n",
       "\n",
       "    .dataframe thead th {\n",
       "        text-align: right;\n",
       "    }\n",
       "</style>\n",
       "<table border=\"1\" class=\"dataframe\">\n",
       "  <thead>\n",
       "    <tr style=\"text-align: right;\">\n",
       "      <th></th>\n",
       "      <th>date_slot</th>\n",
       "      <th>specialization</th>\n",
       "      <th>doctor_name</th>\n",
       "      <th>is_available</th>\n",
       "      <th>patient_to_attend</th>\n",
       "    </tr>\n",
       "  </thead>\n",
       "  <tbody>\n",
       "    <tr>\n",
       "      <th>0</th>\n",
       "      <td>05-08-2024 08:00</td>\n",
       "      <td>general_dentist</td>\n",
       "      <td>john doe</td>\n",
       "      <td>True</td>\n",
       "      <td>NaN</td>\n",
       "    </tr>\n",
       "    <tr>\n",
       "      <th>1</th>\n",
       "      <td>05-08-2024 08:30</td>\n",
       "      <td>general_dentist</td>\n",
       "      <td>john doe</td>\n",
       "      <td>False</td>\n",
       "      <td>1000082.0</td>\n",
       "    </tr>\n",
       "    <tr>\n",
       "      <th>2</th>\n",
       "      <td>05-08-2024 09:00</td>\n",
       "      <td>general_dentist</td>\n",
       "      <td>john doe</td>\n",
       "      <td>False</td>\n",
       "      <td>1000048.0</td>\n",
       "    </tr>\n",
       "    <tr>\n",
       "      <th>3</th>\n",
       "      <td>05-08-2024 09:30</td>\n",
       "      <td>general_dentist</td>\n",
       "      <td>john doe</td>\n",
       "      <td>False</td>\n",
       "      <td>1000036.0</td>\n",
       "    </tr>\n",
       "    <tr>\n",
       "      <th>4</th>\n",
       "      <td>05-08-2024 10:00</td>\n",
       "      <td>general_dentist</td>\n",
       "      <td>john doe</td>\n",
       "      <td>False</td>\n",
       "      <td>1000024.0</td>\n",
       "    </tr>\n",
       "  </tbody>\n",
       "</table>\n",
       "</div>"
      ],
      "text/plain": [
       "          date_slot   specialization doctor_name  is_available  \\\n",
       "0  05-08-2024 08:00  general_dentist    john doe          True   \n",
       "1  05-08-2024 08:30  general_dentist    john doe         False   \n",
       "2  05-08-2024 09:00  general_dentist    john doe         False   \n",
       "3  05-08-2024 09:30  general_dentist    john doe         False   \n",
       "4  05-08-2024 10:00  general_dentist    john doe         False   \n",
       "\n",
       "   patient_to_attend  \n",
       "0                NaN  \n",
       "1          1000082.0  \n",
       "2          1000048.0  \n",
       "3          1000036.0  \n",
       "4          1000024.0  "
      ]
     },
     "execution_count": 17,
     "metadata": {},
     "output_type": "execute_result"
    }
   ],
   "source": [
    "df = pd.read_csv(\"..\\\\data\\\\doctor_availability.csv\")\n",
    "df.head()"
   ]
  },
  {
   "cell_type": "code",
   "execution_count": 19,
   "id": "fc09e1d9",
   "metadata": {},
   "outputs": [
    {
     "data": {
      "text/html": [
       "<div>\n",
       "<style scoped>\n",
       "    .dataframe tbody tr th:only-of-type {\n",
       "        vertical-align: middle;\n",
       "    }\n",
       "\n",
       "    .dataframe tbody tr th {\n",
       "        vertical-align: top;\n",
       "    }\n",
       "\n",
       "    .dataframe thead th {\n",
       "        text-align: right;\n",
       "    }\n",
       "</style>\n",
       "<table border=\"1\" class=\"dataframe\">\n",
       "  <thead>\n",
       "    <tr style=\"text-align: right;\">\n",
       "      <th></th>\n",
       "      <th>date_slot</th>\n",
       "      <th>specialization</th>\n",
       "      <th>doctor_name</th>\n",
       "      <th>is_available</th>\n",
       "      <th>patient_to_attend</th>\n",
       "      <th>date_slot_time</th>\n",
       "    </tr>\n",
       "  </thead>\n",
       "  <tbody>\n",
       "    <tr>\n",
       "      <th>0</th>\n",
       "      <td>05-08-2024 08:00</td>\n",
       "      <td>general_dentist</td>\n",
       "      <td>john doe</td>\n",
       "      <td>True</td>\n",
       "      <td>NaN</td>\n",
       "      <td>08:00</td>\n",
       "    </tr>\n",
       "    <tr>\n",
       "      <th>1</th>\n",
       "      <td>05-08-2024 08:30</td>\n",
       "      <td>general_dentist</td>\n",
       "      <td>john doe</td>\n",
       "      <td>False</td>\n",
       "      <td>1000082.0</td>\n",
       "      <td>08:30</td>\n",
       "    </tr>\n",
       "    <tr>\n",
       "      <th>2</th>\n",
       "      <td>05-08-2024 09:00</td>\n",
       "      <td>general_dentist</td>\n",
       "      <td>john doe</td>\n",
       "      <td>False</td>\n",
       "      <td>1000048.0</td>\n",
       "      <td>09:00</td>\n",
       "    </tr>\n",
       "    <tr>\n",
       "      <th>3</th>\n",
       "      <td>05-08-2024 09:30</td>\n",
       "      <td>general_dentist</td>\n",
       "      <td>john doe</td>\n",
       "      <td>False</td>\n",
       "      <td>1000036.0</td>\n",
       "      <td>09:30</td>\n",
       "    </tr>\n",
       "    <tr>\n",
       "      <th>4</th>\n",
       "      <td>05-08-2024 10:00</td>\n",
       "      <td>general_dentist</td>\n",
       "      <td>john doe</td>\n",
       "      <td>False</td>\n",
       "      <td>1000024.0</td>\n",
       "      <td>10:00</td>\n",
       "    </tr>\n",
       "  </tbody>\n",
       "</table>\n",
       "</div>"
      ],
      "text/plain": [
       "          date_slot   specialization doctor_name  is_available  \\\n",
       "0  05-08-2024 08:00  general_dentist    john doe          True   \n",
       "1  05-08-2024 08:30  general_dentist    john doe         False   \n",
       "2  05-08-2024 09:00  general_dentist    john doe         False   \n",
       "3  05-08-2024 09:30  general_dentist    john doe         False   \n",
       "4  05-08-2024 10:00  general_dentist    john doe         False   \n",
       "\n",
       "   patient_to_attend date_slot_time  \n",
       "0                NaN          08:00  \n",
       "1          1000082.0          08:30  \n",
       "2          1000048.0          09:00  \n",
       "3          1000036.0          09:30  \n",
       "4          1000024.0          10:00  "
      ]
     },
     "execution_count": 19,
     "metadata": {},
     "output_type": "execute_result"
    }
   ],
   "source": [
    "df['date_slot_time'] = df['date_slot'].apply(lambda input: input.split(\" \")[-1])\n",
    "# df['date_slot'].apply(lambda input: input.split(\" \")[-1])\n",
    "df.head()"
   ]
  },
  {
   "cell_type": "code",
   "execution_count": null,
   "id": "a889cdae",
   "metadata": {},
   "outputs": [
    {
     "data": {
      "text/plain": [
       "['08:00',\n",
       " '08:30',\n",
       " '09:30',\n",
       " '10:30',\n",
       " '11:00',\n",
       " '11:30',\n",
       " '13:00',\n",
       " '14:00',\n",
       " '14:30',\n",
       " '15:00',\n",
       " '16:00',\n",
       " '16:30']"
      ]
     },
     "execution_count": 25,
     "metadata": {},
     "output_type": "execute_result"
    }
   ],
   "source": [
    "desired_date = \"07-08-2024\"\n",
    "doctor_name = \"john doe\"\n",
    "\n",
    "rows = list(df[(df['date_slot'].apply(lambda input: input.split(' ')[0]) == desired_date)&(df['doctor_name'] == doctor_name)&(df['is_available'] == True)]['date_slot_time'])\n",
    "rows"
   ]
  },
  {
   "cell_type": "code",
   "execution_count": 28,
   "id": "55a5a4d6",
   "metadata": {},
   "outputs": [
    {
     "data": {
      "text/plain": [
       "'This availability for 07-08-2024\\nAvailable slots: 08:00, 08:30, 09:30, 10:30, 11:00, 11:30, 13:00, 14:00, 14:30, 15:00, 16:00, 16:30'"
      ]
     },
     "execution_count": 28,
     "metadata": {},
     "output_type": "execute_result"
    }
   ],
   "source": [
    "if len(rows) == 0:\n",
    "    output = \"No availability in the entire day\"\n",
    "else:\n",
    "    output = f'This availability for {desired_date}\\n'\n",
    "    output += \"Available slots: \" + ', '.join(rows)\n",
    "\n",
    "output"
   ]
  },
  {
   "cell_type": "code",
   "execution_count": 29,
   "id": "6708c301",
   "metadata": {},
   "outputs": [],
   "source": [
    "@tool\n",
    "def check_availability_by_doctor(desired_date:DateModel, doctor_name:Literal['kevin anderson','robert martinez','susan davis','daniel miller','sarah wilson','michael green','lisa brown','jane smith','emily johnson','john doe']):\n",
    "    \"\"\"\n",
    "    Checking the database if we have availability for the specific doctor.\n",
    "    The parameters should be mentioned by the user in the query\n",
    "    \"\"\"\n",
    "    df = pd.read_csv(\"..\\\\data\\\\doctor_availability.csv\")\n",
    "    #print(df)\n",
    "    \n",
    "    df['date_slot_time'] = df['date_slot'].apply(lambda input: input.split(' ')[-1])\n",
    "    \n",
    "    rows = list(df[(df['date_slot'].apply(lambda input: input.split(' ')[0]) == desired_date.date)&(df['doctor_name'] == doctor_name)&(df['is_available'] == True)]['date_slot_time'])\n",
    "\n",
    "    if len(rows) == 0:\n",
    "        output = \"No availability in the entire day\"\n",
    "    else:\n",
    "        output = f'This availability for {desired_date.date}\\n'\n",
    "        output += \"Available slots: \" + ', '.join(rows)\n",
    "\n",
    "    return output"
   ]
  },
  {
   "cell_type": "code",
   "execution_count": 31,
   "id": "ddbab49d",
   "metadata": {},
   "outputs": [
    {
     "name": "stdout",
     "output_type": "stream",
     "text": [
      "date='10-08-2024'\n"
     ]
    }
   ],
   "source": [
    "# Example usage:\n",
    "date_instance = DateModel(date=\"10-08-2024\")\n",
    "print(date_instance)"
   ]
  },
  {
   "cell_type": "code",
   "execution_count": 32,
   "id": "a586cd47",
   "metadata": {},
   "outputs": [
    {
     "name": "stdout",
     "output_type": "stream",
     "text": [
      "This availability for 10-08-2024\n",
      "Available slots: 09:30, 10:00, 10:30, 11:00, 11:30, 12:00\n"
     ]
    }
   ],
   "source": [
    "print(check_availability_by_doctor.invoke({\"desired_date\": date_instance, \"doctor_name\": \"emily johnson\"}))"
   ]
  }
 ],
 "metadata": {
  "kernelspec": {
   "display_name": "venv",
   "language": "python",
   "name": "python3"
  },
  "language_info": {
   "codemirror_mode": {
    "name": "ipython",
    "version": 3
   },
   "file_extension": ".py",
   "mimetype": "text/x-python",
   "name": "python",
   "nbconvert_exporter": "python",
   "pygments_lexer": "ipython3",
   "version": "3.10.18"
  }
 },
 "nbformat": 4,
 "nbformat_minor": 5
}
